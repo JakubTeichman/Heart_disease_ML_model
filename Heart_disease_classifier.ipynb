{
 "cells": [
  {
   "cell_type": "markdown",
   "id": "e2ca2c57-0fa6-4417-b2d1-576f5e4fc3e6",
   "metadata": {},
   "source": [
    "# Making predictions on heart disease medical data \n",
    "**This project aims to classify whether a patient suffers from heart disease based on the given medical data.**\n",
    "\n",
    "This project uses various ML **Python** libreries."
   ]
  },
  {
   "cell_type": "markdown",
   "id": "8da84d5d-cdfc-4377-9c9f-1155b9ea7815",
   "metadata": {},
   "source": [
    "## 1. Problem definition\n",
    "> Given medical data, the model can classify whether a patient has heart disease or not."
   ]
  },
  {
   "cell_type": "markdown",
   "id": "2fdb9400-42a9-49c3-8cec-778a2d2a296d",
   "metadata": {},
   "source": [
    "## 2. Data\n",
    "\n",
    "The original data came from the Cleavland data from the UCI Machine Learning Repository. \n",
    "\n",
    "https://archive.ics.uci.edu/ml/datasets/heart+Disease"
   ]
  },
  {
   "cell_type": "markdown",
   "id": "8ac2387e-77c3-45f3-ad34-18d154bea793",
   "metadata": {},
   "source": [
    "## 3. Evaluation\n",
    "\n",
    "> If the model predicts heart disease with at least 95% accuracy, we can conclude that the project meets expectations."
   ]
  },
  {
   "cell_type": "markdown",
   "id": "1398f167-25ba-4901-8f4f-4de23d32f2cb",
   "metadata": {},
   "source": [
    "## 4. Features \n",
    "\n",
    "Several features were used to predict heart disease while training the model:\n",
    "\n",
    "### Features Used in Heart Disease Prediction Model\n",
    "\n",
    "- **age** - Age in years  \n",
    "- **sex** - (1 = male; 0 = female)  \n",
    "- **cp** - Chest pain type:  \n",
    "  - 0: Typical angina - chest pain related to decreased blood supply to the heart  \n",
    "  - 1: Atypical angina - chest pain not related to the heart  \n",
    "  - 2: Non-anginal pain - typically esophageal spasms (non-heart related)  \n",
    "  - 3: Asymptomatic - chest pain not showing signs of disease  \n",
    "- **trestbps** - Resting blood pressure (in mm Hg on admission to the hospital). Anything above 130-140 is typically cause for concern  \n",
    "- **chol** - Serum cholesterol in mg/dl  \n",
    "  - Serum = LDL + HDL + 0.2 * triglycerides  \n",
    "  - Above 200 is cause for concern  \n",
    "- **fbs** - (Fasting blood sugar > 120 mg/dl) (1 = true; 0 = false)  \n",
    "  - '>126' mg/dL signals diabetes  \n",
    "- **restecg** - Resting electrocardiographic results:  \n",
    "  - 0: Nothing to note  \n",
    "  - 1: ST-T Wave abnormality (can range from mild symptoms to severe problems, signals non-normal heartbeat)  \n",
    "  - 2: Possible or definite left ventricular hypertrophy (enlarged heart's main pumping chamber)  \n",
    "- **thalach** - Maximum heart rate achieved  \n",
    "- **exang** - Exercise-induced angina (1 = yes; 0 = no)  \n",
    "- **oldpeak** - ST depression induced by exercise relative to rest (looks at stress of heart during exercise; unhealthy heart will stress more)  \n",
    "- **slope** - The slope of the peak exercise ST segment:  \n",
    "  - 0: Upsloping - better heart rate with exercise (uncommon)  \n",
    "  - 1: Flat sloping - minimal change (typical for a healthy heart)  \n",
    "  - 2: Downsloping - signs of an unhealthy heart  \n",
    "- **ca** - Number of major vessels (0-3) colored by fluoroscopy  \n",
    "  - Colored vessel means the doctor can see the blood passing through  \n",
    "  - The more blood movement, the better (no clots)  \n",
    "- **thal** - Thallium stress result:  \n",
    "  - 1,3: Normal  \n",
    "  - 6: Fixed defect - used to be a defect but is now okay  \n",
    "  - 7: Reversible defect - no proper blood movement when exercising  \n",
    "- **target** - Indicates whether the patient has heart disease (1 = yes; 0 = no) (= the predicted attribute)  "
   ]
  },
  {
   "cell_type": "markdown",
   "id": "08b61f9f-3ac9-4ec1-8f84-db855aa5e74b",
   "metadata": {},
   "source": [
    "## Creating a heart disease classifier\n",
    "\n",
    "### 5.1. Prepering the tools\n",
    "\n",
    "We're going to use **Pandas** and **NumPy** to data analisis and data manipulations, as well as **matplotlib** and **seaborn** for data visualization."
   ]
  },
  {
   "cell_type": "code",
   "execution_count": 171,
   "id": "6629047e-5bd8-48b9-bebf-3aeb27d46870",
   "metadata": {},
   "outputs": [
    {
     "data": {
      "text/plain": [
       "['Solarize_Light2',\n",
       " '_classic_test_patch',\n",
       " '_mpl-gallery',\n",
       " '_mpl-gallery-nogrid',\n",
       " 'bmh',\n",
       " 'classic',\n",
       " 'dark_background',\n",
       " 'fast',\n",
       " 'fivethirtyeight',\n",
       " 'ggplot',\n",
       " 'grayscale',\n",
       " 'petroff10',\n",
       " 'seaborn-v0_8',\n",
       " 'seaborn-v0_8-bright',\n",
       " 'seaborn-v0_8-colorblind',\n",
       " 'seaborn-v0_8-dark',\n",
       " 'seaborn-v0_8-dark-palette',\n",
       " 'seaborn-v0_8-darkgrid',\n",
       " 'seaborn-v0_8-deep',\n",
       " 'seaborn-v0_8-muted',\n",
       " 'seaborn-v0_8-notebook',\n",
       " 'seaborn-v0_8-paper',\n",
       " 'seaborn-v0_8-pastel',\n",
       " 'seaborn-v0_8-poster',\n",
       " 'seaborn-v0_8-talk',\n",
       " 'seaborn-v0_8-ticks',\n",
       " 'seaborn-v0_8-white',\n",
       " 'seaborn-v0_8-whitegrid',\n",
       " 'tableau-colorblind10']"
      ]
     },
     "execution_count": 171,
     "metadata": {},
     "output_type": "execute_result"
    }
   ],
   "source": [
    "#Importing libreries\n",
    "import numpy as np\n",
    "import pandas as pd\n",
    "import matplotlib.pyplot as plt\n",
    "import seaborn as sns\n",
    "\n",
    "#Importing models from SciKit-Learn\n",
    "from sklearn.linear_model import LogisticRegression\n",
    "from sklearn.neighbors import KNeighborsClassifier\n",
    "from sklearn.ensemble import RandomForestClassifier\n",
    "\n",
    "#Importing SciKit-Learn evaluation's metrics\n",
    "from sklearn.model_selection import train_test_split, cross_val_score\n",
    "from sklearn.model_selection import RandomizedSearchCV, GridSearchCV\n",
    "from sklearn.metrics import precision_score, recall_score, f1_score\n",
    "from sklearn.metrics import RocCurveDisplay\n",
    "\n",
    "import warnings\n",
    "warnings.filterwarnings(\"ignore\")\n",
    "\n",
    "plt.style.available"
   ]
  },
  {
   "cell_type": "code",
   "execution_count": 191,
   "id": "02f374a6-a274-4043-8b58-67f576191a1b",
   "metadata": {},
   "outputs": [],
   "source": [
    "plt.style.use('seaborn-v0_8-whitegrid')"
   ]
  },
  {
   "cell_type": "markdown",
   "id": "f143f1c1-1438-49fe-9750-537b726ec8eb",
   "metadata": {},
   "source": [
    "### 5.2 Loading the data"
   ]
  },
  {
   "cell_type": "code",
   "execution_count": 2,
   "id": "60130f54-b2ca-403a-aa0c-c70143443427",
   "metadata": {},
   "outputs": [
    {
     "data": {
      "text/html": [
       "<div>\n",
       "<style scoped>\n",
       "    .dataframe tbody tr th:only-of-type {\n",
       "        vertical-align: middle;\n",
       "    }\n",
       "\n",
       "    .dataframe tbody tr th {\n",
       "        vertical-align: top;\n",
       "    }\n",
       "\n",
       "    .dataframe thead th {\n",
       "        text-align: right;\n",
       "    }\n",
       "</style>\n",
       "<table border=\"1\" class=\"dataframe\">\n",
       "  <thead>\n",
       "    <tr style=\"text-align: right;\">\n",
       "      <th></th>\n",
       "      <th>age</th>\n",
       "      <th>sex</th>\n",
       "      <th>cp</th>\n",
       "      <th>trestbps</th>\n",
       "      <th>chol</th>\n",
       "      <th>fbs</th>\n",
       "      <th>restecg</th>\n",
       "      <th>thalach</th>\n",
       "      <th>exang</th>\n",
       "      <th>oldpeak</th>\n",
       "      <th>slope</th>\n",
       "      <th>ca</th>\n",
       "      <th>thal</th>\n",
       "      <th>target</th>\n",
       "    </tr>\n",
       "  </thead>\n",
       "  <tbody>\n",
       "    <tr>\n",
       "      <th>0</th>\n",
       "      <td>63</td>\n",
       "      <td>1</td>\n",
       "      <td>3</td>\n",
       "      <td>145</td>\n",
       "      <td>233</td>\n",
       "      <td>1</td>\n",
       "      <td>0</td>\n",
       "      <td>150</td>\n",
       "      <td>0</td>\n",
       "      <td>2.3</td>\n",
       "      <td>0</td>\n",
       "      <td>0</td>\n",
       "      <td>1</td>\n",
       "      <td>1</td>\n",
       "    </tr>\n",
       "    <tr>\n",
       "      <th>1</th>\n",
       "      <td>37</td>\n",
       "      <td>1</td>\n",
       "      <td>2</td>\n",
       "      <td>130</td>\n",
       "      <td>250</td>\n",
       "      <td>0</td>\n",
       "      <td>1</td>\n",
       "      <td>187</td>\n",
       "      <td>0</td>\n",
       "      <td>3.5</td>\n",
       "      <td>0</td>\n",
       "      <td>0</td>\n",
       "      <td>2</td>\n",
       "      <td>1</td>\n",
       "    </tr>\n",
       "    <tr>\n",
       "      <th>2</th>\n",
       "      <td>41</td>\n",
       "      <td>0</td>\n",
       "      <td>1</td>\n",
       "      <td>130</td>\n",
       "      <td>204</td>\n",
       "      <td>0</td>\n",
       "      <td>0</td>\n",
       "      <td>172</td>\n",
       "      <td>0</td>\n",
       "      <td>1.4</td>\n",
       "      <td>2</td>\n",
       "      <td>0</td>\n",
       "      <td>2</td>\n",
       "      <td>1</td>\n",
       "    </tr>\n",
       "    <tr>\n",
       "      <th>3</th>\n",
       "      <td>56</td>\n",
       "      <td>1</td>\n",
       "      <td>1</td>\n",
       "      <td>120</td>\n",
       "      <td>236</td>\n",
       "      <td>0</td>\n",
       "      <td>1</td>\n",
       "      <td>178</td>\n",
       "      <td>0</td>\n",
       "      <td>0.8</td>\n",
       "      <td>2</td>\n",
       "      <td>0</td>\n",
       "      <td>2</td>\n",
       "      <td>1</td>\n",
       "    </tr>\n",
       "    <tr>\n",
       "      <th>4</th>\n",
       "      <td>57</td>\n",
       "      <td>0</td>\n",
       "      <td>0</td>\n",
       "      <td>120</td>\n",
       "      <td>354</td>\n",
       "      <td>0</td>\n",
       "      <td>1</td>\n",
       "      <td>163</td>\n",
       "      <td>1</td>\n",
       "      <td>0.6</td>\n",
       "      <td>2</td>\n",
       "      <td>0</td>\n",
       "      <td>2</td>\n",
       "      <td>1</td>\n",
       "    </tr>\n",
       "  </tbody>\n",
       "</table>\n",
       "</div>"
      ],
      "text/plain": [
       "   age  sex  cp  trestbps  chol  fbs  restecg  thalach  exang  oldpeak  slope  \\\n",
       "0   63    1   3       145   233    1        0      150      0      2.3      0   \n",
       "1   37    1   2       130   250    0        1      187      0      3.5      0   \n",
       "2   41    0   1       130   204    0        0      172      0      1.4      2   \n",
       "3   56    1   1       120   236    0        1      178      0      0.8      2   \n",
       "4   57    0   0       120   354    0        1      163      1      0.6      2   \n",
       "\n",
       "   ca  thal  target  \n",
       "0   0     1       1  \n",
       "1   0     2       1  \n",
       "2   0     2       1  \n",
       "3   0     2       1  \n",
       "4   0     2       1  "
      ]
     },
     "execution_count": 2,
     "metadata": {},
     "output_type": "execute_result"
    }
   ],
   "source": [
    "df = pd.read_csv('heart-disease.csv')\n",
    "df.head()"
   ]
  },
  {
   "cell_type": "markdown",
   "id": "b631fc82-bf9f-48bc-876a-cff55e5f7ee2",
   "metadata": {},
   "source": [
    "### 5.3 Exploratory data analisis (EDA)"
   ]
  },
  {
   "cell_type": "code",
   "execution_count": 3,
   "id": "5ed8cbda-b198-43c5-843e-3bf4bd842eaf",
   "metadata": {},
   "outputs": [
    {
     "data": {
      "text/html": [
       "<div>\n",
       "<style scoped>\n",
       "    .dataframe tbody tr th:only-of-type {\n",
       "        vertical-align: middle;\n",
       "    }\n",
       "\n",
       "    .dataframe tbody tr th {\n",
       "        vertical-align: top;\n",
       "    }\n",
       "\n",
       "    .dataframe thead th {\n",
       "        text-align: right;\n",
       "    }\n",
       "</style>\n",
       "<table border=\"1\" class=\"dataframe\">\n",
       "  <thead>\n",
       "    <tr style=\"text-align: right;\">\n",
       "      <th></th>\n",
       "      <th>age</th>\n",
       "      <th>sex</th>\n",
       "      <th>cp</th>\n",
       "      <th>trestbps</th>\n",
       "      <th>chol</th>\n",
       "      <th>fbs</th>\n",
       "      <th>restecg</th>\n",
       "      <th>thalach</th>\n",
       "      <th>exang</th>\n",
       "      <th>oldpeak</th>\n",
       "      <th>slope</th>\n",
       "      <th>ca</th>\n",
       "      <th>thal</th>\n",
       "      <th>target</th>\n",
       "    </tr>\n",
       "  </thead>\n",
       "  <tbody>\n",
       "    <tr>\n",
       "      <th>count</th>\n",
       "      <td>303.000000</td>\n",
       "      <td>303.000000</td>\n",
       "      <td>303.000000</td>\n",
       "      <td>303.000000</td>\n",
       "      <td>303.000000</td>\n",
       "      <td>303.000000</td>\n",
       "      <td>303.000000</td>\n",
       "      <td>303.000000</td>\n",
       "      <td>303.000000</td>\n",
       "      <td>303.000000</td>\n",
       "      <td>303.000000</td>\n",
       "      <td>303.000000</td>\n",
       "      <td>303.000000</td>\n",
       "      <td>303.000000</td>\n",
       "    </tr>\n",
       "    <tr>\n",
       "      <th>mean</th>\n",
       "      <td>54.366337</td>\n",
       "      <td>0.683168</td>\n",
       "      <td>0.966997</td>\n",
       "      <td>131.623762</td>\n",
       "      <td>246.264026</td>\n",
       "      <td>0.148515</td>\n",
       "      <td>0.528053</td>\n",
       "      <td>149.646865</td>\n",
       "      <td>0.326733</td>\n",
       "      <td>1.039604</td>\n",
       "      <td>1.399340</td>\n",
       "      <td>0.729373</td>\n",
       "      <td>2.313531</td>\n",
       "      <td>0.544554</td>\n",
       "    </tr>\n",
       "    <tr>\n",
       "      <th>std</th>\n",
       "      <td>9.082101</td>\n",
       "      <td>0.466011</td>\n",
       "      <td>1.032052</td>\n",
       "      <td>17.538143</td>\n",
       "      <td>51.830751</td>\n",
       "      <td>0.356198</td>\n",
       "      <td>0.525860</td>\n",
       "      <td>22.905161</td>\n",
       "      <td>0.469794</td>\n",
       "      <td>1.161075</td>\n",
       "      <td>0.616226</td>\n",
       "      <td>1.022606</td>\n",
       "      <td>0.612277</td>\n",
       "      <td>0.498835</td>\n",
       "    </tr>\n",
       "    <tr>\n",
       "      <th>min</th>\n",
       "      <td>29.000000</td>\n",
       "      <td>0.000000</td>\n",
       "      <td>0.000000</td>\n",
       "      <td>94.000000</td>\n",
       "      <td>126.000000</td>\n",
       "      <td>0.000000</td>\n",
       "      <td>0.000000</td>\n",
       "      <td>71.000000</td>\n",
       "      <td>0.000000</td>\n",
       "      <td>0.000000</td>\n",
       "      <td>0.000000</td>\n",
       "      <td>0.000000</td>\n",
       "      <td>0.000000</td>\n",
       "      <td>0.000000</td>\n",
       "    </tr>\n",
       "    <tr>\n",
       "      <th>25%</th>\n",
       "      <td>47.500000</td>\n",
       "      <td>0.000000</td>\n",
       "      <td>0.000000</td>\n",
       "      <td>120.000000</td>\n",
       "      <td>211.000000</td>\n",
       "      <td>0.000000</td>\n",
       "      <td>0.000000</td>\n",
       "      <td>133.500000</td>\n",
       "      <td>0.000000</td>\n",
       "      <td>0.000000</td>\n",
       "      <td>1.000000</td>\n",
       "      <td>0.000000</td>\n",
       "      <td>2.000000</td>\n",
       "      <td>0.000000</td>\n",
       "    </tr>\n",
       "    <tr>\n",
       "      <th>50%</th>\n",
       "      <td>55.000000</td>\n",
       "      <td>1.000000</td>\n",
       "      <td>1.000000</td>\n",
       "      <td>130.000000</td>\n",
       "      <td>240.000000</td>\n",
       "      <td>0.000000</td>\n",
       "      <td>1.000000</td>\n",
       "      <td>153.000000</td>\n",
       "      <td>0.000000</td>\n",
       "      <td>0.800000</td>\n",
       "      <td>1.000000</td>\n",
       "      <td>0.000000</td>\n",
       "      <td>2.000000</td>\n",
       "      <td>1.000000</td>\n",
       "    </tr>\n",
       "    <tr>\n",
       "      <th>75%</th>\n",
       "      <td>61.000000</td>\n",
       "      <td>1.000000</td>\n",
       "      <td>2.000000</td>\n",
       "      <td>140.000000</td>\n",
       "      <td>274.500000</td>\n",
       "      <td>0.000000</td>\n",
       "      <td>1.000000</td>\n",
       "      <td>166.000000</td>\n",
       "      <td>1.000000</td>\n",
       "      <td>1.600000</td>\n",
       "      <td>2.000000</td>\n",
       "      <td>1.000000</td>\n",
       "      <td>3.000000</td>\n",
       "      <td>1.000000</td>\n",
       "    </tr>\n",
       "    <tr>\n",
       "      <th>max</th>\n",
       "      <td>77.000000</td>\n",
       "      <td>1.000000</td>\n",
       "      <td>3.000000</td>\n",
       "      <td>200.000000</td>\n",
       "      <td>564.000000</td>\n",
       "      <td>1.000000</td>\n",
       "      <td>2.000000</td>\n",
       "      <td>202.000000</td>\n",
       "      <td>1.000000</td>\n",
       "      <td>6.200000</td>\n",
       "      <td>2.000000</td>\n",
       "      <td>4.000000</td>\n",
       "      <td>3.000000</td>\n",
       "      <td>1.000000</td>\n",
       "    </tr>\n",
       "  </tbody>\n",
       "</table>\n",
       "</div>"
      ],
      "text/plain": [
       "              age         sex          cp    trestbps        chol         fbs  \\\n",
       "count  303.000000  303.000000  303.000000  303.000000  303.000000  303.000000   \n",
       "mean    54.366337    0.683168    0.966997  131.623762  246.264026    0.148515   \n",
       "std      9.082101    0.466011    1.032052   17.538143   51.830751    0.356198   \n",
       "min     29.000000    0.000000    0.000000   94.000000  126.000000    0.000000   \n",
       "25%     47.500000    0.000000    0.000000  120.000000  211.000000    0.000000   \n",
       "50%     55.000000    1.000000    1.000000  130.000000  240.000000    0.000000   \n",
       "75%     61.000000    1.000000    2.000000  140.000000  274.500000    0.000000   \n",
       "max     77.000000    1.000000    3.000000  200.000000  564.000000    1.000000   \n",
       "\n",
       "          restecg     thalach       exang     oldpeak       slope          ca  \\\n",
       "count  303.000000  303.000000  303.000000  303.000000  303.000000  303.000000   \n",
       "mean     0.528053  149.646865    0.326733    1.039604    1.399340    0.729373   \n",
       "std      0.525860   22.905161    0.469794    1.161075    0.616226    1.022606   \n",
       "min      0.000000   71.000000    0.000000    0.000000    0.000000    0.000000   \n",
       "25%      0.000000  133.500000    0.000000    0.000000    1.000000    0.000000   \n",
       "50%      1.000000  153.000000    0.000000    0.800000    1.000000    0.000000   \n",
       "75%      1.000000  166.000000    1.000000    1.600000    2.000000    1.000000   \n",
       "max      2.000000  202.000000    1.000000    6.200000    2.000000    4.000000   \n",
       "\n",
       "             thal      target  \n",
       "count  303.000000  303.000000  \n",
       "mean     2.313531    0.544554  \n",
       "std      0.612277    0.498835  \n",
       "min      0.000000    0.000000  \n",
       "25%      2.000000    0.000000  \n",
       "50%      2.000000    1.000000  \n",
       "75%      3.000000    1.000000  \n",
       "max      3.000000    1.000000  "
      ]
     },
     "execution_count": 3,
     "metadata": {},
     "output_type": "execute_result"
    }
   ],
   "source": [
    "df.describe()"
   ]
  },
  {
   "cell_type": "code",
   "execution_count": 4,
   "id": "ad56fe0f-01b5-492a-ad5a-f473c7212d0b",
   "metadata": {},
   "outputs": [
    {
     "data": {
      "text/html": [
       "<div>\n",
       "<style scoped>\n",
       "    .dataframe tbody tr th:only-of-type {\n",
       "        vertical-align: middle;\n",
       "    }\n",
       "\n",
       "    .dataframe tbody tr th {\n",
       "        vertical-align: top;\n",
       "    }\n",
       "\n",
       "    .dataframe thead th {\n",
       "        text-align: right;\n",
       "    }\n",
       "</style>\n",
       "<table border=\"1\" class=\"dataframe\">\n",
       "  <thead>\n",
       "    <tr style=\"text-align: right;\">\n",
       "      <th></th>\n",
       "      <th>count</th>\n",
       "    </tr>\n",
       "    <tr>\n",
       "      <th>target</th>\n",
       "      <th></th>\n",
       "    </tr>\n",
       "  </thead>\n",
       "  <tbody>\n",
       "    <tr>\n",
       "      <th>1</th>\n",
       "      <td>165</td>\n",
       "    </tr>\n",
       "    <tr>\n",
       "      <th>0</th>\n",
       "      <td>138</td>\n",
       "    </tr>\n",
       "  </tbody>\n",
       "</table>\n",
       "</div>"
      ],
      "text/plain": [
       "        count\n",
       "target       \n",
       "1         165\n",
       "0         138"
      ]
     },
     "execution_count": 4,
     "metadata": {},
     "output_type": "execute_result"
    }
   ],
   "source": [
    "# Getting information about data target\n",
    "pd.DataFrame(df.target.value_counts()) "
   ]
  },
  {
   "cell_type": "markdown",
   "id": "1015aad6-656a-4062-b719-69c07ce7cd40",
   "metadata": {},
   "source": [
    "> **Conclusion**: we are going to build a model on balansed data where target is a binary classification"
   ]
  },
  {
   "cell_type": "code",
   "execution_count": 192,
   "id": "2caecb6e-acf6-452b-a63c-ba6b74f92ad5",
   "metadata": {},
   "outputs": [
    {
     "data": {
      "image/png": "[encoded data removed]",
      "text/plain": [
       "<Figure size 720x480 with 1 Axes>"
      ]
     },
     "metadata": {},
     "output_type": "display_data"
    }
   ],
   "source": [
    "df.target.value_counts().plot(kind = 'bar',\n",
    "                              color = ['salmon', 'lightgreen'],\n",
    "                              figsize = (9, 6))\n",
    "plt.title('Target feature distribution')\n",
    "plt.xlabel('0 = No disease, 1 = Disease')\n",
    "plt.xticks(rotation = 0)\n",
    "plt.show()"
   ]
  },
  {
   "cell_type": "code",
   "execution_count": 188,
   "id": "dcb1df79-0a17-46f8-9570-560bc1f8c7eb",
   "metadata": {
    "scrolled": true
   },
   "outputs": [
    {
     "name": "stdout",
     "output_type": "stream",
     "text": [
      "<class 'pandas.core.frame.DataFrame'>\n",
      "RangeIndex: 303 entries, 0 to 302\n",
      "Data columns (total 14 columns):\n",
      " #   Column    Non-Null Count  Dtype  \n",
      "---  ------    --------------  -----  \n",
      " 0   age       303 non-null    int64  \n",
      " 1   sex       303 non-null    int64  \n",
      " 2   cp        303 non-null    int64  \n",
      " 3   trestbps  303 non-null    int64  \n",
      " 4   chol      303 non-null    int64  \n",
      " 5   fbs       303 non-null    int64  \n",
      " 6   restecg   303 non-null    int64  \n",
      " 7   thalach   303 non-null    int64  \n",
      " 8   exang     303 non-null    int64  \n",
      " 9   oldpeak   303 non-null    float64\n",
      " 10  slope     303 non-null    int64  \n",
      " 11  ca        303 non-null    int64  \n",
      " 12  thal      303 non-null    int64  \n",
      " 13  target    303 non-null    int64  \n",
      "dtypes: float64(1), int64(13)\n",
      "memory usage: 33.3 KB\n"
     ]
    }
   ],
   "source": [
    "df.info()"
   ]
  },
  {
   "cell_type": "code",
   "execution_count": 189,
   "id": "1433da40-c76c-4307-b050-181dffe187bb",
   "metadata": {},
   "outputs": [
    {
     "data": {
      "text/plain": [
       "age         0\n",
       "sex         0\n",
       "cp          0\n",
       "trestbps    0\n",
       "chol        0\n",
       "fbs         0\n",
       "restecg     0\n",
       "thalach     0\n",
       "exang       0\n",
       "oldpeak     0\n",
       "slope       0\n",
       "ca          0\n",
       "thal        0\n",
       "target      0\n",
       "dtype: int64"
      ]
     },
     "execution_count": 189,
     "metadata": {},
     "output_type": "execute_result"
    }
   ],
   "source": [
    "# Checking whether data includes missing data\n",
    "df.isna().sum()"
   ]
  },
  {
   "cell_type": "markdown",
   "id": "ade5e32f-6e2a-4535-b1a7-3f6a5546a2b2",
   "metadata": {},
   "source": [
    "> **Conclusion**: our data doesn't miss any data"
   ]
  },
  {
   "cell_type": "markdown",
   "id": "7234a2ba-2184-4aa6-bcc5-0dfe52e50088",
   "metadata": {},
   "source": [
    "#### 5.3.1 Heart disease frequency according to sex"
   ]
  },
  {
   "cell_type": "code",
   "execution_count": 8,
   "id": "53c5e17d-728e-44c1-b3f8-12a201863e1c",
   "metadata": {},
   "outputs": [
    {
     "data": {
      "text/html": [
       "<div>\n",
       "<style scoped>\n",
       "    .dataframe tbody tr th:only-of-type {\n",
       "        vertical-align: middle;\n",
       "    }\n",
       "\n",
       "    .dataframe tbody tr th {\n",
       "        vertical-align: top;\n",
       "    }\n",
       "\n",
       "    .dataframe thead th {\n",
       "        text-align: right;\n",
       "    }\n",
       "</style>\n",
       "<table border=\"1\" class=\"dataframe\">\n",
       "  <thead>\n",
       "    <tr style=\"text-align: right;\">\n",
       "      <th></th>\n",
       "      <th>count</th>\n",
       "    </tr>\n",
       "    <tr>\n",
       "      <th>sex</th>\n",
       "      <th></th>\n",
       "    </tr>\n",
       "  </thead>\n",
       "  <tbody>\n",
       "    <tr>\n",
       "      <th>1</th>\n",
       "      <td>207</td>\n",
       "    </tr>\n",
       "    <tr>\n",
       "      <th>0</th>\n",
       "      <td>96</td>\n",
       "    </tr>\n",
       "  </tbody>\n",
       "</table>\n",
       "</div>"
      ],
      "text/plain": [
       "     count\n",
       "sex       \n",
       "1      207\n",
       "0       96"
      ]
     },
     "execution_count": 8,
     "metadata": {},
     "output_type": "execute_result"
    }
   ],
   "source": [
    "pd.DataFrame(df.sex.value_counts())"
   ]
  },
  {
   "cell_type": "code",
   "execution_count": 193,
   "id": "7ff5c394-64c3-4b05-bfc8-59d8b26e4fdb",
   "metadata": {},
   "outputs": [
    {
     "data": {
      "image/png": "[encoded data removed]",
      "text/plain": [
       "<Figure size 720x480 with 1 Axes>"
      ]
     },
     "metadata": {},
     "output_type": "display_data"
    }
   ],
   "source": [
    "pd.crosstab(df.sex, df.target).plot(kind = 'bar',\n",
    "                                    color = ['salmon', 'lightgreen'],\n",
    "                                    figsize = (9, 6))\n",
    "plt.title('Heart disease frequency according to sex')\n",
    "plt.xlabel('0 = female, 1 = male')\n",
    "plt.legend(['No disease', 'Disease'])\n",
    "plt.xticks(rotation = 0)\n",
    "plt.show()"
   ]
  },
  {
   "cell_type": "markdown",
   "id": "99fe4e77-119d-4f5c-8fbf-9bd439ab6afe",
   "metadata": {},
   "source": [
    "> **Conclusion**: there more sample of male patients, but only less than a half of those have heart disease.\n",
    "> According to given data, female patients more often have heart disease"
   ]
  },
  {
   "cell_type": "markdown",
   "id": "1e5e3b8a-9c03-4d89-ab6a-74efac62cee6",
   "metadata": {},
   "source": [
    "### 5.3.2 Creating a correlation matrix\n",
    "The correlation matrix is helpful in determining whether a certain feature has a significant impact on predicting heart disease."
   ]
  },
  {
   "cell_type": "code",
   "execution_count": 10,
   "id": "6fb981f9-055d-4abe-aa98-b1f40fd3e44f",
   "metadata": {},
   "outputs": [
    {
     "data": {
      "text/html": [
       "<div>\n",
       "<style scoped>\n",
       "    .dataframe tbody tr th:only-of-type {\n",
       "        vertical-align: middle;\n",
       "    }\n",
       "\n",
       "    .dataframe tbody tr th {\n",
       "        vertical-align: top;\n",
       "    }\n",
       "\n",
       "    .dataframe thead th {\n",
       "        text-align: right;\n",
       "    }\n",
       "</style>\n",
       "<table border=\"1\" class=\"dataframe\">\n",
       "  <thead>\n",
       "    <tr style=\"text-align: right;\">\n",
       "      <th></th>\n",
       "      <th>age</th>\n",
       "      <th>sex</th>\n",
       "      <th>cp</th>\n",
       "      <th>trestbps</th>\n",
       "      <th>chol</th>\n",
       "      <th>fbs</th>\n",
       "      <th>restecg</th>\n",
       "      <th>thalach</th>\n",
       "      <th>exang</th>\n",
       "      <th>oldpeak</th>\n",
       "      <th>slope</th>\n",
       "      <th>ca</th>\n",
       "      <th>thal</th>\n",
       "      <th>target</th>\n",
       "    </tr>\n",
       "  </thead>\n",
       "  <tbody>\n",
       "    <tr>\n",
       "      <th>age</th>\n",
       "      <td>1.000000</td>\n",
       "      <td>-0.098447</td>\n",
       "      <td>-0.068653</td>\n",
       "      <td>0.279351</td>\n",
       "      <td>0.213678</td>\n",
       "      <td>0.121308</td>\n",
       "      <td>-0.116211</td>\n",
       "      <td>-0.398522</td>\n",
       "      <td>0.096801</td>\n",
       "      <td>0.210013</td>\n",
       "      <td>-0.168814</td>\n",
       "      <td>0.276326</td>\n",
       "      <td>0.068001</td>\n",
       "      <td>-0.225439</td>\n",
       "    </tr>\n",
       "    <tr>\n",
       "      <th>sex</th>\n",
       "      <td>-0.098447</td>\n",
       "      <td>1.000000</td>\n",
       "      <td>-0.049353</td>\n",
       "      <td>-0.056769</td>\n",
       "      <td>-0.197912</td>\n",
       "      <td>0.045032</td>\n",
       "      <td>-0.058196</td>\n",
       "      <td>-0.044020</td>\n",
       "      <td>0.141664</td>\n",
       "      <td>0.096093</td>\n",
       "      <td>-0.030711</td>\n",
       "      <td>0.118261</td>\n",
       "      <td>0.210041</td>\n",
       "      <td>-0.280937</td>\n",
       "    </tr>\n",
       "    <tr>\n",
       "      <th>cp</th>\n",
       "      <td>-0.068653</td>\n",
       "      <td>-0.049353</td>\n",
       "      <td>1.000000</td>\n",
       "      <td>0.047608</td>\n",
       "      <td>-0.076904</td>\n",
       "      <td>0.094444</td>\n",
       "      <td>0.044421</td>\n",
       "      <td>0.295762</td>\n",
       "      <td>-0.394280</td>\n",
       "      <td>-0.149230</td>\n",
       "      <td>0.119717</td>\n",
       "      <td>-0.181053</td>\n",
       "      <td>-0.161736</td>\n",
       "      <td>0.433798</td>\n",
       "    </tr>\n",
       "    <tr>\n",
       "      <th>trestbps</th>\n",
       "      <td>0.279351</td>\n",
       "      <td>-0.056769</td>\n",
       "      <td>0.047608</td>\n",
       "      <td>1.000000</td>\n",
       "      <td>0.123174</td>\n",
       "      <td>0.177531</td>\n",
       "      <td>-0.114103</td>\n",
       "      <td>-0.046698</td>\n",
       "      <td>0.067616</td>\n",
       "      <td>0.193216</td>\n",
       "      <td>-0.121475</td>\n",
       "      <td>0.101389</td>\n",
       "      <td>0.062210</td>\n",
       "      <td>-0.144931</td>\n",
       "    </tr>\n",
       "    <tr>\n",
       "      <th>chol</th>\n",
       "      <td>0.213678</td>\n",
       "      <td>-0.197912</td>\n",
       "      <td>-0.076904</td>\n",
       "      <td>0.123174</td>\n",
       "      <td>1.000000</td>\n",
       "      <td>0.013294</td>\n",
       "      <td>-0.151040</td>\n",
       "      <td>-0.009940</td>\n",
       "      <td>0.067023</td>\n",
       "      <td>0.053952</td>\n",
       "      <td>-0.004038</td>\n",
       "      <td>0.070511</td>\n",
       "      <td>0.098803</td>\n",
       "      <td>-0.085239</td>\n",
       "    </tr>\n",
       "  </tbody>\n",
       "</table>\n",
       "</div>"
      ],
      "text/plain": [
       "               age       sex        cp  trestbps      chol       fbs  \\\n",
       "age       1.000000 -0.098447 -0.068653  0.279351  0.213678  0.121308   \n",
       "sex      -0.098447  1.000000 -0.049353 -0.056769 -0.197912  0.045032   \n",
       "cp       -0.068653 -0.049353  1.000000  0.047608 -0.076904  0.094444   \n",
       "trestbps  0.279351 -0.056769  0.047608  1.000000  0.123174  0.177531   \n",
       "chol      0.213678 -0.197912 -0.076904  0.123174  1.000000  0.013294   \n",
       "\n",
       "           restecg   thalach     exang   oldpeak     slope        ca  \\\n",
       "age      -0.116211 -0.398522  0.096801  0.210013 -0.168814  0.276326   \n",
       "sex      -0.058196 -0.044020  0.141664  0.096093 -0.030711  0.118261   \n",
       "cp        0.044421  0.295762 -0.394280 -0.149230  0.119717 -0.181053   \n",
       "trestbps -0.114103 -0.046698  0.067616  0.193216 -0.121475  0.101389   \n",
       "chol     -0.151040 -0.009940  0.067023  0.053952 -0.004038  0.070511   \n",
       "\n",
       "              thal    target  \n",
       "age       0.068001 -0.225439  \n",
       "sex       0.210041 -0.280937  \n",
       "cp       -0.161736  0.433798  \n",
       "trestbps  0.062210 -0.144931  \n",
       "chol      0.098803 -0.085239  "
      ]
     },
     "execution_count": 10,
     "metadata": {},
     "output_type": "execute_result"
    }
   ],
   "source": [
    "df.corr().head()"
   ]
  },
  {
   "cell_type": "code",
   "execution_count": 194,
   "id": "e427adad-5881-4c54-abfe-7355df934877",
   "metadata": {},
   "outputs": [
    {
     "data": {
      "image/png": "[encoded data removed]",
      "text/plain": [
       "<Figure size 960x720 with 2 Axes>"
      ]
     },
     "metadata": {},
     "output_type": "display_data"
    }
   ],
   "source": [
    "# Visualizing correlation matrix using seaborn \n",
    "corr_matrix = df.corr()\n",
    "fig, ax = plt.subplots(figsize = (12, 9))\n",
    "ax = sns.heatmap(corr_matrix, \n",
    "                 annot= True, \n",
    "                 linewidths= 0.3,\n",
    "                 fmt='.2f',\n",
    "                 cmap= 'plasma')"
   ]
  },
  {
   "cell_type": "markdown",
   "id": "47f35868-c19b-4b5a-8233-6efcac2e489e",
   "metadata": {},
   "source": [
    "> **Conclusion**: we can find some positive and negative correlation between independent variables and target. Some of those correlations will be presented."
   ]
  },
  {
   "cell_type": "markdown",
   "id": "5dc4263d-6ea5-4778-a9ab-2d0d6029bae8",
   "metadata": {},
   "source": [
    "### 5.3.3 Age vs thalach correlation\n",
    "\n",
    "* thalach - Maximum heart rate achieved"
   ]
  },
  {
   "cell_type": "code",
   "execution_count": 198,
   "id": "38682797-d2bd-4bbe-b06d-6d16299d5f1e",
   "metadata": {},
   "outputs": [
    {
     "data": {
      "image/png": "[encoded data removed]",
      "text/plain": [
       "<Figure size 880x560 with 1 Axes>"
      ]
     },
     "metadata": {},
     "output_type": "display_data"
    }
   ],
   "source": [
    "plt.figure(figsize = (11, 7))\n",
    "\n",
    "plt.scatter(df.age[df.target == 1],\n",
    "            df.thalach[df.target == 1],\n",
    "            color = 'salmon',\n",
    "            linewidths = 3)\n",
    "\n",
    "plt.scatter(df.age[df.target == 0],\n",
    "            df.thalach[df.target == 0],\n",
    "            color = 'lightgreen',\n",
    "            linewidths = 3)\n",
    "\n",
    "plt.title('Age vs thalach correlation')\n",
    "plt.xlabel('Age')\n",
    "plt.ylabel('Thalach')\n",
    "plt.legend(['Disease', 'No disease'])\n",
    "plt.show()"
   ]
  },
  {
   "cell_type": "markdown",
   "id": "e47b2f29-ce51-4fe0-a301-12a738c33016",
   "metadata": {},
   "source": [
    "> **Conclusion**: There is a positive correlation between a higher maximum heart rate achieved and the diagnosis of heart disease."
   ]
  },
  {
   "cell_type": "code",
   "execution_count": 199,
   "id": "78b6f71d-9de1-4f4e-912a-480ca370abd9",
   "metadata": {},
   "outputs": [
    {
     "data": {
      "image/png": "[encoded data removed]",
      "text/plain": [
       "<Figure size 720x480 with 1 Axes>"
      ]
     },
     "metadata": {},
     "output_type": "display_data"
    }
   ],
   "source": [
    "df.age.plot.hist(bins = 15, \n",
    "                 figsize = (9, 6), \n",
    "                 color = 'lightgreen')\n",
    "plt.title('Age Distribution')\n",
    "plt.xlabel('Age')\n",
    "plt.show()"
   ]
  },
  {
   "cell_type": "markdown",
   "id": "1f9e0c62-cd3d-42c7-a7bc-86420910ed4f",
   "metadata": {},
   "source": [
    "> **Conclusion**: Age distribution is close to normal distribution with with a predominance of values between 55 and 65 years old"
   ]
  },
  {
   "cell_type": "markdown",
   "id": "a9db55e5-215e-4995-a4d1-8c61bfb81f6c",
   "metadata": {},
   "source": [
    "### 5.3.4 Heart disease frequency per chest pain type"
   ]
  },
  {
   "cell_type": "markdown",
   "id": "e7fc3ebf-93cd-4596-bbc1-7a44e1f2c3c9",
   "metadata": {},
   "source": [
    "**cp** - Chest pain type:  \n",
    "  - 0: Typical angina - chest pain related to decreased blood supply to the heart  \n",
    "  - 1: Atypical angina - chest pain not related to the heart  \n",
    "  - 2: Non-anginal pain - typically esophageal spasms (non-heart related)  \n",
    "  - 3: Asymptomatic - chest pain not showing signs of disease  "
   ]
  },
  {
   "cell_type": "code",
   "execution_count": 200,
   "id": "f5dcf03d-343f-4a18-ab78-65cbcebab08b",
   "metadata": {},
   "outputs": [
    {
     "data": {
      "image/png": "[encoded data removed]",
      "text/plain": [
       "<Figure size 720x480 with 1 Axes>"
      ]
     },
     "metadata": {},
     "output_type": "display_data"
    }
   ],
   "source": [
    "pd.crosstab(df.cp, df.target).plot(kind = 'bar',\n",
    "                                   figsize = (9, 6), \n",
    "                                   color = ['salmon', 'lightgreen'])\n",
    "plt.title('Heart disease frequency per chest pain type')\n",
    "plt.xlabel('Chest pain type')\n",
    "plt.ylabel('Numer of patients')\n",
    "plt.legend(['No disease', 'Disease'])\n",
    "plt.xticks(rotation = 0)\n",
    "plt.show()"
   ]
  },
  {
   "cell_type": "markdown",
   "id": "8ca3bdc5-8e08-46c9-adda-a49aa0170eb8",
   "metadata": {},
   "source": [
    "> **Conclusion**: chest pain types: 1, 2, 3 are highly correlated with heart disease"
   ]
  },
  {
   "cell_type": "markdown",
   "id": "6c90bbce-2a9d-4958-9c25-7f71700456eb",
   "metadata": {},
   "source": [
    "## 5.4 Creating a estimator"
   ]
  },
  {
   "cell_type": "code",
   "execution_count": 15,
   "id": "0bb4ccc2-0ecb-4ef4-af02-1bb9fd06452f",
   "metadata": {},
   "outputs": [],
   "source": [
    "# Preparing data \n",
    "X = df.drop('target', axis = 1)\n",
    "y = df.target"
   ]
  },
  {
   "cell_type": "code",
   "execution_count": 52,
   "id": "8cd5ad92-ba05-465a-ad4b-b09ffe9642c7",
   "metadata": {},
   "outputs": [],
   "source": [
    "# Spliting data into train (80%) and test (20%) data\n",
    "X_train, X_test, y_train, y_test = train_test_split(X, y, test_size = 0.2)"
   ]
  },
  {
   "cell_type": "markdown",
   "id": "d99312d3-6124-4d65-9c5d-27222ce778b1",
   "metadata": {},
   "source": [
    "#### Choosing the right **SciKit-Learn** estimator"
   ]
  },
  {
   "cell_type": "markdown",
   "id": "204241e8-2cb9-48b9-a219-ebac087d622f",
   "metadata": {},
   "source": [
    "For this classification problem we're going to try these sklearn estimatiors and eveluate them:\n",
    "* Logistic Regressor\n",
    "* K-Nearest Neighbour Classifier\n",
    "* Random Forest Classifier"
   ]
  },
  {
   "cell_type": "code",
   "execution_count": 302,
   "id": "1451dc0b-d07c-4a36-aa31-7a48eb3dd73a",
   "metadata": {},
   "outputs": [],
   "source": [
    "# Prepering models dictionary\n",
    "models = {\n",
    "    'Logistic Regression': LogisticRegression(),\n",
    "    'K-Nearest Neighbour Classifier': KNeighborsClassifier(),\n",
    "    'Random Forest Classifier': RandomForestClassifier()\n",
    "}\n",
    "\n",
    "# Creating function to train given models on train data and evaluate them on given test data \n",
    "def fit_and_evaluate(models, X_train, X_test, y_train, y_test):\n",
    "\n",
    "    # Setting a random seed\n",
    "    np.random.seed(42)\n",
    "    \n",
    "    model_score = {}\n",
    "    for name, model in models.items():\n",
    "        model.fit(X_train, y_train)\n",
    "        model_score[name] = model.score(X_test, y_test)\n",
    "    return model_score"
   ]
  },
  {
   "cell_type": "code",
   "execution_count": 303,
   "id": "e0876c26-de4e-4ffd-85c9-e360d2383885",
   "metadata": {},
   "outputs": [
    {
     "data": {
      "text/html": [
       "<div>\n",
       "<style scoped>\n",
       "    .dataframe tbody tr th:only-of-type {\n",
       "        vertical-align: middle;\n",
       "    }\n",
       "\n",
       "    .dataframe tbody tr th {\n",
       "        vertical-align: top;\n",
       "    }\n",
       "\n",
       "    .dataframe thead th {\n",
       "        text-align: right;\n",
       "    }\n",
       "</style>\n",
       "<table border=\"1\" class=\"dataframe\">\n",
       "  <thead>\n",
       "    <tr style=\"text-align: right;\">\n",
       "      <th></th>\n",
       "      <th>Logistic Regression</th>\n",
       "      <th>K-Nearest Neighbour Classifier</th>\n",
       "      <th>Random Forest Classifier</th>\n",
       "    </tr>\n",
       "  </thead>\n",
       "  <tbody>\n",
       "    <tr>\n",
       "      <th>Accuracy</th>\n",
       "      <td>0.803279</td>\n",
       "      <td>0.606557</td>\n",
       "      <td>0.786885</td>\n",
       "    </tr>\n",
       "  </tbody>\n",
       "</table>\n",
       "</div>"
      ],
      "text/plain": [
       "          Logistic Regression  K-Nearest Neighbour Classifier  \\\n",
       "Accuracy             0.803279                        0.606557   \n",
       "\n",
       "          Random Forest Classifier  \n",
       "Accuracy                  0.786885  "
      ]
     },
     "execution_count": 303,
     "metadata": {},
     "output_type": "execute_result"
    }
   ],
   "source": [
    "# Executing created function to see the evaluation of given estimatiors\n",
    "models_score = fit_and_evaluate(models, X_train, X_test, y_train, y_test)\n",
    "pd.DataFrame(models_score, index = ['Accuracy'])"
   ]
  },
  {
   "cell_type": "markdown",
   "id": "7b5fe426-8167-48f7-b26d-c2da60d82091",
   "metadata": {},
   "source": [
    "## Models Comparison"
   ]
  },
  {
   "cell_type": "code",
   "execution_count": 201,
   "id": "aa7cdfbc-ff8e-43a1-9bf8-f71c4f85d568",
   "metadata": {},
   "outputs": [
    {
     "data": {
      "image/png": "[encoded data removed]",
      "text/plain": [
       "<Figure size 720x480 with 1 Axes>"
      ]
     },
     "metadata": {},
     "output_type": "display_data"
    }
   ],
   "source": [
    "model_compare = pd.DataFrame(models_score, index = ['Accuracy'])\n",
    "model_compare.T.plot(kind = 'bar', \n",
    "                     ylim = [0.5, 0.9], \n",
    "                     color = 'lightgreen',\n",
    "                     figsize = (9, 6))\n",
    "plt.title('Models Comparison')\n",
    "plt.xticks(rotation = 0)\n",
    "plt.show()"
   ]
  },
  {
   "cell_type": "markdown",
   "id": "7e6b01d4-da75-4b6c-b6d1-741ad0d1bef6",
   "metadata": {},
   "source": [
    "> **Conclution**: All given estimatiors gave similar accuraty results in range between 72% - 78%.\n",
    "> Let's tune all of them to tell which of them give the best results"
   ]
  },
  {
   "cell_type": "markdown",
   "id": "1240dd8e-2faa-4856-ace3-7f6dd70dff22",
   "metadata": {},
   "source": [
    "## 5.5 Hyperparameter Tuning\n",
    "\n",
    "In a next step we're going to tune hyperparameters of given models to improve theirs score. \n",
    "\n",
    "In order to do so we're be using **RandomSearchCV** and **GridSearchCV**\n",
    "\n",
    "In a first step we'll performe RandomSearchCV"
   ]
  },
  {
   "cell_type": "code",
   "execution_count": 56,
   "id": "b394c7d5-2a11-4ea5-91b6-e4fc983f1ea1",
   "metadata": {},
   "outputs": [],
   "source": [
    "# Creating grids for RandomSearchCV\n",
    "log_reg_grid = {\n",
    "    'penalty':['l1','l2','elasticnet','none'],\n",
    "    'C' : np.logspace(-4,4,20),\n",
    "    'solver': ['lbfgs','newton-cg','liblinear','sag','saga'],\n",
    "    'max_iter'  : [100,1000,2500,5000]\n",
    "}\n",
    "  \n",
    "rf_class_grid = {\n",
    "    'n_estimators': [100, 200, 300],\n",
    "    'max_depth': [10, 20, 30, None],\n",
    "    'min_samples_split': np.arange(2, 20, 2),\n",
    "    'min_samples_leaf': np.arange(1, 20, 2),\n",
    "    'max_features': ['auto', 'sqrt', 'log2'],\n",
    "    'bootstrap': [True, False]\n",
    "}\n",
    "\n",
    "kn_neigh_grid = {\n",
    "    'n_neighbors': range(1, 31),\n",
    "    'weights': ['uniform', 'distance'],\n",
    "    'metric': ['euclidean', 'manhattan', 'minkowski'],\n",
    "    'p': [1, 2]\n",
    "}"
   ]
  },
  {
   "cell_type": "code",
   "execution_count": 57,
   "id": "fa1de25b-02f3-4e77-994b-5b73c8b48f6c",
   "metadata": {},
   "outputs": [],
   "source": [
    "models_and_grids = {\n",
    "    'Logistic Regressor': [LogisticRegression(), log_reg_grid],\n",
    "    'K-Nearest Neighbour Classifier': [KNeighborsClassifier(), kn_neigh_grid],\n",
    "    'Random Forest Classifier': [RandomForestClassifier(), rf_class_grid]\n",
    "}"
   ]
  },
  {
   "cell_type": "code",
   "execution_count": 58,
   "id": "5bc2834e-d639-4698-986f-6c5c3e0a36a4",
   "metadata": {},
   "outputs": [],
   "source": [
    "# Creating a hyperparameter tuning function using RandomSearchCV with cross validation\n",
    "np.random.seed(42)\n",
    "\n",
    "def tuning(models_and_grids):\n",
    "    tuned_models = {}\n",
    "    best_params = {}\n",
    "    score = {}\n",
    "    \n",
    "    for name, model_and_grid in models_and_grids.items():\n",
    "        tuned_models[name] = RandomizedSearchCV(\n",
    "            estimator = model_and_grid[0], \n",
    "            param_distributions = model_and_grid[1],\n",
    "            cv = 5,\n",
    "            n_iter = 10,\n",
    "            verbose = True\n",
    "        )\n",
    "\n",
    "        tuned_models[name].fit(X_train, y_train)\n",
    "        best_params[name] = tuned_models[name].best_params_\n",
    "        score[name] = tuned_models[name].score(X_test, y_test)\n",
    "    return best_params, score"
   ]
  },
  {
   "cell_type": "code",
   "execution_count": 69,
   "id": "afa2bfdb-b77b-4f79-b169-bc4867b589c8",
   "metadata": {
    "scrolled": true
   },
   "outputs": [
    {
     "name": "stdout",
     "output_type": "stream",
     "text": [
      "Fitting 5 folds for each of 10 candidates, totalling 50 fits\n",
      "Fitting 5 folds for each of 10 candidates, totalling 50 fits\n",
      "Fitting 5 folds for each of 10 candidates, totalling 50 fits\n"
     ]
    },
    {
     "data": {
      "text/plain": [
       "({'Logistic Regressor': {'solver': 'liblinear',\n",
       "   'penalty': 'l1',\n",
       "   'max_iter': 5000,\n",
       "   'C': 0.23357214690901212},\n",
       "  'K-Nearest Neighbour Classifier': {'weights': 'uniform',\n",
       "   'p': 1,\n",
       "   'n_neighbors': 23,\n",
       "   'metric': 'euclidean'},\n",
       "  'Random Forest Classifier': {'n_estimators': 200,\n",
       "   'min_samples_split': 4,\n",
       "   'min_samples_leaf': 5,\n",
       "   'max_features': 'sqrt',\n",
       "   'max_depth': 30,\n",
       "   'bootstrap': False}},\n",
       " {'Logistic Regressor': 0.819672131147541,\n",
       "  'K-Nearest Neighbour Classifier': 0.6229508196721312,\n",
       "  'Random Forest Classifier': 0.819672131147541})"
      ]
     },
     "execution_count": 69,
     "metadata": {},
     "output_type": "execute_result"
    }
   ],
   "source": [
    "# Tunning estimators\n",
    "tuned_models = tuning(models_and_grids)\n",
    "tuned_models"
   ]
  },
  {
   "cell_type": "code",
   "execution_count": 202,
   "id": "67d86643-baea-49f1-a2bb-8ce3bc7401e6",
   "metadata": {},
   "outputs": [
    {
     "data": {
      "image/png": "[encoded data removed]",
      "text/plain": [
       "<Figure size 720x480 with 1 Axes>"
      ]
     },
     "metadata": {},
     "output_type": "display_data"
    }
   ],
   "source": [
    "pd.DataFrame(tuned_models[1], index = ['Accuracy']).T.plot(\n",
    "    kind = 'bar', \n",
    "    figsize = (9, 6), \n",
    "    color = 'lightgreen',\n",
    "    ylim = [0.5, 0.9]\n",
    ")\n",
    "plt.title('Models Comparison after tuning hyperparameters')\n",
    "plt.xticks(rotation = 0)\n",
    "plt.show()"
   ]
  },
  {
   "cell_type": "code",
   "execution_count": 61,
   "id": "5833a081-21b1-4784-957a-981d8c1c704a",
   "metadata": {},
   "outputs": [
    {
     "data": {
      "text/html": [
       "<div>\n",
       "<style scoped>\n",
       "    .dataframe tbody tr th:only-of-type {\n",
       "        vertical-align: middle;\n",
       "    }\n",
       "\n",
       "    .dataframe tbody tr th {\n",
       "        vertical-align: top;\n",
       "    }\n",
       "\n",
       "    .dataframe thead th {\n",
       "        text-align: right;\n",
       "    }\n",
       "</style>\n",
       "<table border=\"1\" class=\"dataframe\">\n",
       "  <thead>\n",
       "    <tr style=\"text-align: right;\">\n",
       "      <th></th>\n",
       "      <th>Accuracy</th>\n",
       "    </tr>\n",
       "  </thead>\n",
       "  <tbody>\n",
       "    <tr>\n",
       "      <th>Logistic Regressor</th>\n",
       "      <td>0.803279</td>\n",
       "    </tr>\n",
       "    <tr>\n",
       "      <th>K-Nearest Neighbour Classifier</th>\n",
       "      <td>0.622951</td>\n",
       "    </tr>\n",
       "    <tr>\n",
       "      <th>Random Forest Classifier</th>\n",
       "      <td>0.803279</td>\n",
       "    </tr>\n",
       "  </tbody>\n",
       "</table>\n",
       "</div>"
      ],
      "text/plain": [
       "                                Accuracy\n",
       "Logistic Regressor              0.803279\n",
       "K-Nearest Neighbour Classifier  0.622951\n",
       "Random Forest Classifier        0.803279"
      ]
     },
     "execution_count": 61,
     "metadata": {},
     "output_type": "execute_result"
    }
   ],
   "source": [
    "pd.DataFrame(tuned_models[1], index = ['Accuracy']).T"
   ]
  },
  {
   "cell_type": "markdown",
   "id": "40ec7bcb-ff3f-4ee5-8e9d-375a872cccf4",
   "metadata": {},
   "source": [
    "> Conclusion: Logistic Regressor and Random Forest Classifier are prerforming much better than K-Nearest Neighbour Classifier so we'll perform tuning hyperparameters with GridSearchCV on these two better estimators only."
   ]
  },
  {
   "cell_type": "markdown",
   "id": "c5aa657a-e77f-417f-aa9f-7a18ae34f416",
   "metadata": {},
   "source": [
    "#### First attempt of tuning hyperparameters of Logistic Regression estiomator"
   ]
  },
  {
   "cell_type": "code",
   "execution_count": 82,
   "id": "cfbc1958-a79a-44a0-bb28-d2d0cb7ada7e",
   "metadata": {
    "scrolled": true
   },
   "outputs": [
    {
     "name": "stdout",
     "output_type": "stream",
     "text": [
      "Fitting 5 folds for each of 2400 candidates, totalling 12000 fits\n"
     ]
    },
    {
     "data": {
      "text/plain": [
       "{'C': 0.23357214690901212, 'max_iter': 50, 'penalty': 'l2', 'solver': 'lbfgs'}"
      ]
     },
     "execution_count": 82,
     "metadata": {},
     "output_type": "execute_result"
    }
   ],
   "source": [
    "log_reg_grid = {\n",
    "    'penalty':['l1','l2','elasticnet', None],\n",
    "    'C' : np.logspace(-4,4,20),\n",
    "    'solver': ['lbfgs','newton-cg','liblinear','sag','saga'],\n",
    "    'max_iter'  : [50,100,200,500,1000,2500]\n",
    "}\n",
    "\n",
    "np.random.seed(42)\n",
    "\n",
    "log_tuning = GridSearchCV(\n",
    "            estimator = LogisticRegression(), \n",
    "            param_grid = log_reg_grid,\n",
    "            cv = 5,\n",
    "            verbose = True\n",
    "        )\n",
    "log_tuning.fit(X_train, y_train)\n",
    "log_tuning.best_params_"
   ]
  },
  {
   "cell_type": "code",
   "execution_count": 83,
   "id": "8b4d2708-bf8e-48b9-b2d0-e729235c8e1a",
   "metadata": {},
   "outputs": [
    {
     "data": {
      "text/plain": [
       "0.8679421768707483"
      ]
     },
     "execution_count": 83,
     "metadata": {},
     "output_type": "execute_result"
    }
   ],
   "source": [
    "log_tuning.best_score_"
   ]
  },
  {
   "cell_type": "markdown",
   "id": "55063e4b-6ca4-4d97-b9a5-17743d710171",
   "metadata": {},
   "source": [
    "#### Second attempt of tuning hyperparameters of Logistic Regression estiomator"
   ]
  },
  {
   "cell_type": "code",
   "execution_count": 125,
   "id": "4ec84f95-e6be-4580-bff7-24d465ee04c6",
   "metadata": {},
   "outputs": [
    {
     "name": "stdout",
     "output_type": "stream",
     "text": [
      "Fitting 5 folds for each of 180 candidates, totalling 900 fits\n"
     ]
    },
    {
     "data": {
      "text/plain": [
       "{'C': 0.23357214690901212, 'max_iter': 50, 'penalty': 'l2', 'solver': 'lbfgs'}"
      ]
     },
     "execution_count": 125,
     "metadata": {},
     "output_type": "execute_result"
    }
   ],
   "source": [
    "log_reg_grid = {\n",
    "    'penalty':['l2'],\n",
    "    'C' : np.logspace(-4,4,20),\n",
    "    'solver': ['lbfgs'],\n",
    "    'max_iter'  : np.arange(10, 80, 8)\n",
    "}\n",
    "\n",
    "np.random.seed(42)\n",
    "\n",
    "log_tuning = GridSearchCV(\n",
    "            estimator = LogisticRegression(), \n",
    "            param_grid = log_reg_grid,\n",
    "            cv = 5,\n",
    "            verbose = True\n",
    "        )\n",
    "log_tuning.fit(X_train, y_train)\n",
    "log_tuning.best_params_"
   ]
  },
  {
   "cell_type": "code",
   "execution_count": 127,
   "id": "d8ee5277-b252-440d-ba86-4932a90f62da",
   "metadata": {},
   "outputs": [
    {
     "data": {
      "text/plain": [
       "0.8679421768707483"
      ]
     },
     "execution_count": 127,
     "metadata": {},
     "output_type": "execute_result"
    }
   ],
   "source": [
    "log_tuning.best_score_"
   ]
  },
  {
   "cell_type": "markdown",
   "id": "f1d0d0d3-15e0-4834-bf91-32f094dc0948",
   "metadata": {},
   "source": [
    "#### First attempt of tuning hyperparameters of Random Forest Classifier estiomator"
   ]
  },
  {
   "cell_type": "code",
   "execution_count": 110,
   "id": "173184a5-0e05-404c-a448-a8cd9215facc",
   "metadata": {},
   "outputs": [
    {
     "name": "stdout",
     "output_type": "stream",
     "text": [
      "Fitting 3 folds for each of 2250 candidates, totalling 6750 fits\n"
     ]
    },
    {
     "data": {
      "text/plain": [
       "{'bootstrap': True,\n",
       " 'max_depth': None,\n",
       " 'max_features': 'log2',\n",
       " 'min_samples_leaf': 13,\n",
       " 'min_samples_split': 6,\n",
       " 'n_estimators': 100}"
      ]
     },
     "execution_count": 110,
     "metadata": {},
     "output_type": "execute_result"
    }
   ],
   "source": [
    "rfc_class_grid = {\n",
    "    'n_estimators': [100, 200, 300],\n",
    "    'max_depth': [10, 20, 30, 40, None],\n",
    "    'min_samples_split': np.arange(2, 20, 4),\n",
    "    'min_samples_leaf': np.arange(1, 20, 4),\n",
    "    'max_features': ['auto', 'sqrt', 'log2'],\n",
    "    'bootstrap': [True, False]\n",
    "}\n",
    "\n",
    "np.random.seed(42)\n",
    "\n",
    "rfc_tuning = GridSearchCV(\n",
    "            estimator = RandomForestClassifier(), \n",
    "            param_grid = rfc_class_grid,\n",
    "            cv = 3,\n",
    "            verbose = True\n",
    "        )\n",
    "rfc_tuning.fit(X_train, y_train)\n",
    "rfc_tuning.best_params_"
   ]
  },
  {
   "cell_type": "code",
   "execution_count": 126,
   "id": "179a0f70-30d1-42ec-bd9d-bc3f334b66ae",
   "metadata": {},
   "outputs": [
    {
     "data": {
      "text/plain": [
       "0.84328231292517"
      ]
     },
     "execution_count": 126,
     "metadata": {},
     "output_type": "execute_result"
    }
   ],
   "source": [
    "rfc_tuning.best_score_"
   ]
  },
  {
   "cell_type": "markdown",
   "id": "cc20a4ee-73e5-439d-93c6-fe66b0016cb0",
   "metadata": {},
   "source": [
    "#### Second attempt of tuning hyperparameters of Logistic Regression estiomator"
   ]
  },
  {
   "cell_type": "code",
   "execution_count": 122,
   "id": "5d6284db-8e08-45f7-8165-433548498989",
   "metadata": {},
   "outputs": [
    {
     "name": "stdout",
     "output_type": "stream",
     "text": [
      "Fitting 5 folds for each of 160 candidates, totalling 800 fits\n"
     ]
    },
    {
     "data": {
      "text/plain": [
       "{'bootstrap': True,\n",
       " 'max_depth': 30,\n",
       " 'max_features': 'log2',\n",
       " 'min_samples_leaf': 5,\n",
       " 'min_samples_split': 8,\n",
       " 'n_estimators': 200}"
      ]
     },
     "execution_count": 122,
     "metadata": {},
     "output_type": "execute_result"
    }
   ],
   "source": [
    "rfc_class_grid = {\n",
    "    'n_estimators': [100, 200],\n",
    "    'max_depth': [30, None],\n",
    "    'min_samples_split': np.arange(2, 10, 2),\n",
    "    'min_samples_leaf': np.arange(1, 20, 4),\n",
    "    'max_features': ['sqrt', 'log2'],\n",
    "    'bootstrap': [True]\n",
    "}\n",
    "\n",
    "np.random.seed(42)\n",
    "\n",
    "rfc_tuning = GridSearchCV(\n",
    "            estimator = RandomForestClassifier(), \n",
    "            param_grid = rfc_class_grid,\n",
    "            cv = 5,\n",
    "            verbose = True\n",
    "        )\n",
    "rfc_tuning.fit(X_train, y_train)\n",
    "rfc_tuning.best_params_"
   ]
  },
  {
   "cell_type": "code",
   "execution_count": 123,
   "id": "1469a0cf-159c-449d-b37f-36a68f20c725",
   "metadata": {},
   "outputs": [
    {
     "data": {
      "text/plain": [
       "0.84328231292517"
      ]
     },
     "execution_count": 123,
     "metadata": {},
     "output_type": "execute_result"
    }
   ],
   "source": [
    "rfc_tuning.best_score_"
   ]
  },
  {
   "cell_type": "markdown",
   "id": "7426c486-7a5d-4606-869e-9a67def42394",
   "metadata": {},
   "source": [
    "> **Conclusion**: we managed to improve the Random Forest Classifier score at second attempt, hoverver that score is still worse than Logistic Regression, so in a next step we're going to evaluate Logistic Regression estimatior"
   ]
  },
  {
   "cell_type": "code",
   "execution_count": 205,
   "id": "3be72307-344d-40ab-86a9-6f54378e774f",
   "metadata": {},
   "outputs": [
    {
     "data": {
      "image/png": "[encoded data removed]",
      "text/plain": [
       "<Figure size 640x440 with 1 Axes>"
      ]
     },
     "metadata": {},
     "output_type": "display_data"
    }
   ],
   "source": [
    "models_score_after_tuning = pd.DataFrame({\n",
    "    'Logistic Regression': log_tuning.best_score_,\n",
    "    'Random Forest Classifier': rfc_tuning.best_score_\n",
    "}, index = ['Best score'])\n",
    "\n",
    "models_score_after_tuning.T.plot(\n",
    "    kind = 'bar',\n",
    "    color = 'lightgreen',\n",
    "    ylim = [0.7, 0.9]\n",
    ")\n",
    "plt.xticks(rotation = 0)\n",
    "plt.title('Tuned models comparason')\n",
    "plt.show()"
   ]
  },
  {
   "cell_type": "markdown",
   "id": "42c846e0-ce4c-46b7-b7b3-348d461c4238",
   "metadata": {},
   "source": [
    "#### Comparing model's accuracy before and after tuning hyperparameters"
   ]
  },
  {
   "cell_type": "code",
   "execution_count": 304,
   "id": "7d1a82ec-da8c-4740-91ff-1dbbd9e20afc",
   "metadata": {},
   "outputs": [],
   "source": [
    "models_score_after_tuning.reset_index(drop = True, inplace = True)"
   ]
  },
  {
   "cell_type": "code",
   "execution_count": 305,
   "id": "268caf16-ddf8-4aa9-9383-42c470b622da",
   "metadata": {},
   "outputs": [],
   "source": [
    "models_score = pd.DataFrame(models_score.items()).iloc[[0, 2]]\n",
    "models_score = models_score.set_index(0)"
   ]
  },
  {
   "cell_type": "code",
   "execution_count": 306,
   "id": "96a5a181-4c2f-4c04-b872-e47288a17a5b",
   "metadata": {},
   "outputs": [
    {
     "data": {
      "text/html": [
       "<div>\n",
       "<style scoped>\n",
       "    .dataframe tbody tr th:only-of-type {\n",
       "        vertical-align: middle;\n",
       "    }\n",
       "\n",
       "    .dataframe tbody tr th {\n",
       "        vertical-align: top;\n",
       "    }\n",
       "\n",
       "    .dataframe thead th {\n",
       "        text-align: right;\n",
       "    }\n",
       "</style>\n",
       "<table border=\"1\" class=\"dataframe\">\n",
       "  <thead>\n",
       "    <tr style=\"text-align: right;\">\n",
       "      <th></th>\n",
       "      <th>Logistic Regression</th>\n",
       "      <th>Random Forest Classifier</th>\n",
       "    </tr>\n",
       "  </thead>\n",
       "  <tbody>\n",
       "    <tr>\n",
       "      <th>0</th>\n",
       "      <td>0.867942</td>\n",
       "      <td>0.843282</td>\n",
       "    </tr>\n",
       "  </tbody>\n",
       "</table>\n",
       "</div>"
      ],
      "text/plain": [
       "   Logistic Regression  Random Forest Classifier\n",
       "0             0.867942                  0.843282"
      ]
     },
     "execution_count": 306,
     "metadata": {},
     "output_type": "execute_result"
    }
   ],
   "source": [
    "models_score_after_tuning"
   ]
  },
  {
   "cell_type": "code",
   "execution_count": 319,
   "id": "63872ccb-12a7-4b79-9db4-4d438e8ade1a",
   "metadata": {},
   "outputs": [
    {
     "data": {
      "text/html": [
       "<div>\n",
       "<style scoped>\n",
       "    .dataframe tbody tr th:only-of-type {\n",
       "        vertical-align: middle;\n",
       "    }\n",
       "\n",
       "    .dataframe tbody tr th {\n",
       "        vertical-align: top;\n",
       "    }\n",
       "\n",
       "    .dataframe thead th {\n",
       "        text-align: right;\n",
       "    }\n",
       "</style>\n",
       "<table border=\"1\" class=\"dataframe\">\n",
       "  <thead>\n",
       "    <tr style=\"text-align: right;\">\n",
       "      <th></th>\n",
       "      <th>Logistic Regression</th>\n",
       "      <th>Random Forest Classifier</th>\n",
       "    </tr>\n",
       "  </thead>\n",
       "  <tbody>\n",
       "    <tr>\n",
       "      <th>1</th>\n",
       "      <td>0.803279</td>\n",
       "      <td>0.786885</td>\n",
       "    </tr>\n",
       "    <tr>\n",
       "      <th>0</th>\n",
       "      <td>0.867942</td>\n",
       "      <td>0.843282</td>\n",
       "    </tr>\n",
       "  </tbody>\n",
       "</table>\n",
       "</div>"
      ],
      "text/plain": [
       "   Logistic Regression  Random Forest Classifier\n",
       "1             0.803279                  0.786885\n",
       "0             0.867942                  0.843282"
      ]
     },
     "execution_count": 319,
     "metadata": {},
     "output_type": "execute_result"
    }
   ],
   "source": [
    "tuning_efects = pd.concat([models_score.T, models_score_after_tuning])\n",
    "tuning_efects"
   ]
  },
  {
   "cell_type": "code",
   "execution_count": 323,
   "id": "33db0733-2bb4-4412-bd5b-24bcab8ef1dc",
   "metadata": {},
   "outputs": [
    {
     "data": {
      "image/png": "[encoded data removed]",
      "text/plain": [
       "<Figure size 720x480 with 1 Axes>"
      ]
     },
     "metadata": {},
     "output_type": "display_data"
    }
   ],
   "source": [
    "tuning_efects.T.plot(\n",
    "    kind = 'bar', \n",
    "    color = ['salmon', 'lightgreen'],\n",
    "    figsize = (9, 6),\n",
    "    ylim = [0.6, 0.9]\n",
    ")\n",
    "plt.title('Accuracy score before and after tuning hyperparameters')\n",
    "plt.xlabel('Estimators')\n",
    "plt.ylabel('Accuracy')\n",
    "plt.legend(['Before tuning', 'After tuning'])\n",
    "plt.xticks(rotation = 0)\n",
    "plt.show()"
   ]
  },
  {
   "cell_type": "markdown",
   "id": "7c0cf7c0-dece-44f4-ada5-9f2d8d70e547",
   "metadata": {},
   "source": [
    "> **Conclusion**: Logistic Regression and Random Forest Classifier were performing similar, but Logistic Regression got better results, so this is the model that is going to be evaluated."
   ]
  },
  {
   "cell_type": "markdown",
   "id": "7b0c597a-a1a2-4704-831a-983c344d95ce",
   "metadata": {},
   "source": [
    "## 5.6. Evaluating "
   ]
  },
  {
   "cell_type": "code",
   "execution_count": null,
   "id": "366c2f33-1022-4beb-a384-0a19209c45db",
   "metadata": {},
   "outputs": [],
   "source": []
  }
 ],
 "metadata": {
  "kernelspec": {
   "display_name": "Python 3 (ipykernel)",
   "language": "python",
   "name": "python3"
  },
  "language_info": {
   "codemirror_mode": {
    "name": "ipython",
    "version": 3
   },
   "file_extension": ".py",
   "mimetype": "text/x-python",
   "name": "python",
   "nbconvert_exporter": "python",
   "pygments_lexer": "ipython3",
   "version": "3.12.7"
  }
 },
 "nbformat": 4,
 "nbformat_minor": 5
}

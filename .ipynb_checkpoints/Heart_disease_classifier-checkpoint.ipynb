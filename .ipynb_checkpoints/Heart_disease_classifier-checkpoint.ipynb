{
 "cells": [
  {
   "cell_type": "markdown",
   "id": "e2ca2c57-0fa6-4417-b2d1-576f5e4fc3e6",
   "metadata": {},
   "source": [
    "# Making predictions on heart disease medical data \n",
    "**This project aims to classify whether a patient suffers from heart disease based on the given medical data.**\n",
    "\n",
    "This project uses various ML **Python** libreries."
   ]
  },
  {
   "cell_type": "markdown",
   "id": "8da84d5d-cdfc-4377-9c9f-1155b9ea7815",
   "metadata": {},
   "source": [
    "## 1. Problem definition\n",
    "> Given medical data, the model can classify whether a patient has heart disease or not."
   ]
  },
  {
   "cell_type": "markdown",
   "id": "2fdb9400-42a9-49c3-8cec-778a2d2a296d",
   "metadata": {},
   "source": [
    "## 2. Data\n",
    "\n",
    "The original data came from the Cleavland data from the UCI Machine Learning Repository. \n",
    "\n",
    "https://archive.ics.uci.edu/ml/datasets/heart+Disease"
   ]
  },
  {
   "cell_type": "markdown",
   "id": "8ac2387e-77c3-45f3-ad34-18d154bea793",
   "metadata": {},
   "source": [
    "## 3. Evaluation\n",
    "\n",
    "> If the model predicts heart disease with at least 95% accuracy, we can conclude that the project meets expectations."
   ]
  },
  {
   "cell_type": "markdown",
   "id": "1398f167-25ba-4901-8f4f-4de23d32f2cb",
   "metadata": {},
   "source": [
    "## 4. Features \n",
    "\n",
    "Several features were used to predict heart disease while training the model:\n",
    "\n",
    "### Features Used in Heart Disease Prediction Model\n",
    "\n",
    "- **age** - Age in years  \n",
    "- **sex** - (1 = male; 0 = female)  \n",
    "- **cp** - Chest pain type:  \n",
    "  - 0: Typical angina - chest pain related to decreased blood supply to the heart  \n",
    "  - 1: Atypical angina - chest pain not related to the heart  \n",
    "  - 2: Non-anginal pain - typically esophageal spasms (non-heart related)  \n",
    "  - 3: Asymptomatic - chest pain not showing signs of disease  \n",
    "- **trestbps** - Resting blood pressure (in mm Hg on admission to the hospital). Anything above 130-140 is typically cause for concern  \n",
    "- **chol** - Serum cholesterol in mg/dl  \n",
    "  - Serum = LDL + HDL + 0.2 * triglycerides  \n",
    "  - Above 200 is cause for concern  \n",
    "- **fbs** - (Fasting blood sugar > 120 mg/dl) (1 = true; 0 = false)  \n",
    "  - '>126' mg/dL signals diabetes  \n",
    "- **restecg** - Resting electrocardiographic results:  \n",
    "  - 0: Nothing to note  \n",
    "  - 1: ST-T Wave abnormality (can range from mild symptoms to severe problems, signals non-normal heartbeat)  \n",
    "  - 2: Possible or definite left ventricular hypertrophy (enlarged heart's main pumping chamber)  \n",
    "- **thalach** - Maximum heart rate achieved  \n",
    "- **exang** - Exercise-induced angina (1 = yes; 0 = no)  \n",
    "- **oldpeak** - ST depression induced by exercise relative to rest (looks at stress of heart during exercise; unhealthy heart will stress more)  \n",
    "- **slope** - The slope of the peak exercise ST segment:  \n",
    "  - 0: Upsloping - better heart rate with exercise (uncommon)  \n",
    "  - 1: Flat sloping - minimal change (typical for a healthy heart)  \n",
    "  - 2: Downsloping - signs of an unhealthy heart  \n",
    "- **ca** - Number of major vessels (0-3) colored by fluoroscopy  \n",
    "  - Colored vessel means the doctor can see the blood passing through  \n",
    "  - The more blood movement, the better (no clots)  \n",
    "- **thal** - Thallium stress result:  \n",
    "  - 1,3: Normal  \n",
    "  - 6: Fixed defect - used to be a defect but is now okay  \n",
    "  - 7: Reversible defect - no proper blood movement when exercising  \n",
    "- **target** - Indicates whether the patient has heart disease (1 = yes; 0 = no) (= the predicted attribute)  "
   ]
  },
  {
   "cell_type": "code",
   "execution_count": null,
   "id": "2d427bb5-6782-4f65-8a5b-52323b36753f",
   "metadata": {},
   "outputs": [],
   "source": []
  }
 ],
 "metadata": {
  "kernelspec": {
   "display_name": "Conda env",
   "language": "python",
   "name": "env"
  },
  "language_info": {
   "codemirror_mode": {
    "name": "ipython",
    "version": 3
   },
   "file_extension": ".py",
   "mimetype": "text/x-python",
   "name": "python",
   "nbconvert_exporter": "python",
   "pygments_lexer": "ipython3",
   "version": "3.12.7"
  }
 },
 "nbformat": 4,
 "nbformat_minor": 5
}
